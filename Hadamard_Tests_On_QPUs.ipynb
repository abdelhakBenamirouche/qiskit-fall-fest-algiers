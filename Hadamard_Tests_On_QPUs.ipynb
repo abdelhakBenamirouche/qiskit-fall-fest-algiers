{
 "cells": [
  {
   "cell_type": "markdown",
   "id": "d912ae07-6dda-4f8a-b84a-0a4d54ef92fb",
   "metadata": {
    "tags": []
   },
   "source": [
    "<h1 style=\"color:#9A11DA;\"> What is a Hadamard Test?</h1> \n",
    "The Hadamard Test allows for estimating the measurment $\\langle \\psi | U | \\psi \\rangle$ for a unitary operation $U$ and a quantum state $|\\psi \\rangle$. In this challenge you'll be working on creating the Hadamard Test for measuring both real and imaginary values on various quantum computers. \n",
    "\n",
    "Here's some documentation for you to get started:\n",
    "\n",
    "[Wikipedia](https://en.wikipedia.org/wiki/Hadamard_test_(quantum_computation))\n",
    "\n",
    "[Victoroy Omole's Blog on QPE and Hadamard Test](https://vtomole.com/blog/2018/05/20/pea)\n"
   ]
  },
  {
   "cell_type": "markdown",
   "id": "5899ada3-b2a9-4caf-a452-af0ae617e994",
   "metadata": {
    "jp-MarkdownHeadingCollapsed": true,
    "tags": []
   },
   "source": [
    "<h2 style=\"color:#9A11DA;\">qBraid SDK</h2> \n",
    "\n",
    "qBraid-SDK is our tool to braid various quantum SDKs into one cohesive experience. With qBraid-SDK, you can develop quantum circuits and run them on quantum computers available from, IBM, Rigetti, OQC, and IonQ. You are also welcome to develop your quantum circuits in the language of your choice (qiskit, cirq, braket, or qasm) and specify the quantum device you want to run them, and qBraid-SDK will run the circuits and get you the results. qBraid-SDK includes a transpiler which allows it to convert the circuits between various languages. You can also use the transpiler for your quantum code. The SDK also has many auxiliary features that allow you to keep track of your quantum jobs and find out the status of various quantum computers. \n",
    "Learn more about the qBraid-SDK at https://qbraid-qbraid.readthedocs-hosted.com/en/latest/sdk/overview.html"
   ]
  },
  {
   "cell_type": "markdown",
   "id": "ea514a0e-d4b9-4769-bb27-b00c9d3fd10e",
   "metadata": {
    "jp-MarkdownHeadingCollapsed": true,
    "tags": []
   },
   "source": [
    "<h2 style=\"color:#9A11DA;\">Getting Started </h2>\n",
    "\n",
    "### Add permissions and credits\n",
    "1. Make sure you have added the code `QISKITFALL22` on your [account](https://account.qbraid.com/account-details)  in the **Add an access key** section.  If you already have already done this step move onto step 4.\n",
    "\n",
    "<img align=\"center\" width='350px' src='./images/account_details.png'>\n",
    "2. You should receive a message like this:\n",
    "\n",
    "<img align=\"center\" width='350px' src='./images/confirmed.png'>\n",
    "3. Reload this page!\n",
    "\n",
    "## Activate the qBraid SDK environment\n",
    "4. On the top right you should see the `ENVS` button. Click it!\n",
    "5. Click the +ADD button and open the drop down arrow \n",
    "\n",
    "<img align=\"center\"  width='100px' src='./images/add.png'>\n",
    "6. Install the qBraid SDK! It will take a few minutes.\n",
    "\n",
    "<img align=\"center\"  width='200px' src='./images/qbraid_sdk.png'>\n",
    "7. Activate the environment\n",
    "\n",
    "<img align=\"center\"  width='200px' src='./images/activate.png'>\n",
    "\n",
    "8. Activate the kernel\n",
    "\n",
    "<img align=\"center\"  width='200px' src='./images/kernel.png'>\n",
    "\n"
   ]
  },
  {
   "cell_type": "markdown",
   "id": "1351ca03-9c9d-482a-aead-16c0d29257fd",
   "metadata": {},
   "source": [
    "## You're all ready to go!\n",
    "By running the cell below you will be able to run quantum jobs on qBraid. Learn more about the qBraid SDK [here](https://qbraid-qbraid.readthedocs-hosted.com/en/stable/sdk/overview.html)\n",
    "\n",
    "### How to win\n",
    "**Creativity is key here.** Try to learn about what our SDK is capable and the various applications of the hadmard test. Some ideas can be to use the two functions to make a game, extend it in the likes of the Aharonov-Jones-Landau algorithm, computing inner products and more. \n",
    "\n",
    "**Run on multiple simulators and devices using the qBraid SDK's transpiling and job submitting functionality is also key!**\n",
    "\n",
    "**Write clean documentation and code** Clean code will help judges discern who understands the material and can conscisely explain it to others.\n",
    "\n",
    "**Provide installation instructions** If there are any additional installation/getting started steps please mention them!"
   ]
  },
  {
   "cell_type": "code",
   "execution_count": 1,
   "id": "3d7ae6f3-acd6-4666-913e-96f7cabefd8b",
   "metadata": {},
   "outputs": [
    {
     "name": "stdout",
     "output_type": "stream",
     "text": [
      "\u001b[0;35mYou have already enabled qBraid Quantum Jobs in the qbraid_sdk environment.\u001b[0m\n"
     ]
    }
   ],
   "source": [
    "! qbraid jobs enable qbraid_sdk"
   ]
  },
  {
   "cell_type": "code",
   "execution_count": 2,
   "id": "515cd08b-c1db-47a1-b170-831c9ca8d244",
   "metadata": {},
   "outputs": [],
   "source": [
    "from qiskit import QuantumRegister, ClassicalRegister"
   ]
  },
  {
   "cell_type": "code",
   "execution_count": 3,
   "id": "0fdb4b77-d896-43a9-86ac-ba86ef3e7847",
   "metadata": {},
   "outputs": [],
   "source": [
    "def hadamard_test_real():\n",
    "    q = QuantumRegister(3)\n",
    "    c = ClassicalRegister(3)\n",
    "    qc = QuantumCircuit(q, c)\n",
    "\n",
    "    qc.h(q[0])\n",
    "    qc.ch(q[0],q[1])\n",
    "    qc.cu3(np.pi/8,-np.pi/2,np.pi/2,q[0], q[2])\n",
    "    qc.h(q[0])\n",
    "\n",
    "    qc.measure(q[0], c[0])\n",
    "\n",
    "    return qc"
   ]
  },
  {
   "cell_type": "code",
   "execution_count": 4,
   "id": "c77a65d0-5a2d-4977-81f3-c596e3ac1150",
   "metadata": {},
   "outputs": [],
   "source": [
    "def hadamard_test_imag():\n",
    "    \n",
    "    qc = QuantumCircuit(3, 3)\n",
    "    \n",
    "    qc.h(0)\n",
    "    qc.s(0)\n",
    "    qc.ch(0,1)\n",
    "    qc.cu3(np.pi/8,-np.pi/2,np.pi/2, 0,2)\n",
    "    qc.h(0)\n",
    "\n",
    "    qc.measure(0, 0)\n",
    "\n",
    "    return qc"
   ]
  },
  {
   "cell_type": "markdown",
   "id": "19163a38-4b1d-490f-82d9-538e0e7fb1f0",
   "metadata": {},
   "source": [
    "### qBraid SDK DEMO: Run on various hardware\n"
   ]
  },
  {
   "cell_type": "code",
   "execution_count": 5,
   "id": "950081ce-169b-4b55-a640-200ec2387999",
   "metadata": {},
   "outputs": [],
   "source": [
    "from qbraid import get_devices"
   ]
  },
  {
   "cell_type": "code",
   "execution_count": 6,
   "id": "bd49db4d-2815-4ce4-ad19-a2ec7bf2ff6e",
   "metadata": {},
   "outputs": [
    {
     "data": {
      "text/html": [
       "<h3>Supported Devices</h3><table><tr>\n",
       "    <th style='text-align:left'>Provider</th>\n",
       "    <th style='text-align:left'>Name</th>\n",
       "    <th style='text-align:left'>qBraid ID</th>\n",
       "    <th style='text-align:left'>Status</th></tr>\n",
       "    <tr>\n",
       "        <td style='text-align:left'>AWS</td>\n",
       "        <td style='text-align:left'>Braket Default Simulator</td>\n",
       "        <td style='text-align:left'><code>aws_braket_default_sim</code></td>\n",
       "        <td><span style='color:green'>●</span></td></tr>\n",
       "        <tr>\n",
       "        <td style='text-align:left'>AWS</td>\n",
       "        <td style='text-align:left'>Density Matrix Simulator</td>\n",
       "        <td style='text-align:left'><code>aws_dm_sim</code></td>\n",
       "        <td><span style='color:green'>●</span></td></tr>\n",
       "        <tr>\n",
       "        <td style='text-align:left'>AWS</td>\n",
       "        <td style='text-align:left'>State Vector Simulator</td>\n",
       "        <td style='text-align:left'><code>aws_sv_sim</code></td>\n",
       "        <td><span style='color:green'>●</span></td></tr>\n",
       "        <tr>\n",
       "        <td style='text-align:left'>AWS</td>\n",
       "        <td style='text-align:left'>Tensor Network Simulator</td>\n",
       "        <td style='text-align:left'><code>aws_tn_sim</code></td>\n",
       "        <td><span style='color:green'>●</span></td></tr>\n",
       "        <tr>\n",
       "        <td style='text-align:left'>D-Wave</td>\n",
       "        <td style='text-align:left'>Advantage_system4</td>\n",
       "        <td style='text-align:left'><code>aws_dwave_advantage_system4</code></td>\n",
       "        <td><span style='color:green'>●</span></td></tr>\n",
       "        <tr>\n",
       "        <td style='text-align:left'>D-Wave</td>\n",
       "        <td style='text-align:left'>DW_2000Q_6</td>\n",
       "        <td style='text-align:left'><code>aws_dwave_2000Q_6</code></td>\n",
       "        <td><span style='color:green'>●</span></td></tr>\n",
       "        <tr>\n",
       "        <td style='text-align:left'>Google</td>\n",
       "        <td style='text-align:left'>Bristlecone</td>\n",
       "        <td style='text-align:left'><code>google_bristlecone</code></td>\n",
       "        <td><span style='color:red'>○</span></td></tr>\n",
       "        <tr>\n",
       "        <td style='text-align:left'>Google</td>\n",
       "        <td style='text-align:left'>Cirq Density Matrix Simulator</td>\n",
       "        <td style='text-align:left'><code>google_cirq_dm_sim</code></td>\n",
       "        <td><span style='color:green'>●</span></td></tr>\n",
       "        <tr>\n",
       "        <td style='text-align:left'>Google</td>\n",
       "        <td style='text-align:left'>Cirq Sparse Simulator</td>\n",
       "        <td style='text-align:left'><code>google_cirq_sparse_sim</code></td>\n",
       "        <td><span style='color:green'>●</span></td></tr>\n",
       "        <tr>\n",
       "        <td style='text-align:left'>Google</td>\n",
       "        <td style='text-align:left'>Foxtail</td>\n",
       "        <td style='text-align:left'><code>google_foxtail</code></td>\n",
       "        <td><span style='color:red'>○</span></td></tr>\n",
       "        <tr>\n",
       "        <td style='text-align:left'>Google</td>\n",
       "        <td style='text-align:left'>Sycamore</td>\n",
       "        <td style='text-align:left'><code>google_sycamore</code></td>\n",
       "        <td><span style='color:red'>○</span></td></tr>\n",
       "        <tr>\n",
       "        <td style='text-align:left'>Google</td>\n",
       "        <td style='text-align:left'>Sycamore23</td>\n",
       "        <td style='text-align:left'><code>google_sycamore23</code></td>\n",
       "        <td><span style='color:red'>○</span></td></tr>\n",
       "        <tr>\n",
       "        <td style='text-align:left'>IBM</td>\n",
       "        <td style='text-align:left'>Aer Default Simulator</td>\n",
       "        <td style='text-align:left'><code>ibm_aer_default_sim</code></td>\n",
       "        <td><span style='color:green'>●</span></td></tr>\n",
       "        <tr>\n",
       "        <td style='text-align:left'>IBM</td>\n",
       "        <td style='text-align:left'>Aer Pulse Simulator</td>\n",
       "        <td style='text-align:left'><code>ibm_aer_pulse_sim</code></td>\n",
       "        <td><span style='color:green'>●</span></td></tr>\n",
       "        <tr>\n",
       "        <td style='text-align:left'>IBM</td>\n",
       "        <td style='text-align:left'>Aer QASM Simulator</td>\n",
       "        <td style='text-align:left'><code>ibm_aer_qasm_sim</code></td>\n",
       "        <td><span style='color:green'>●</span></td></tr>\n",
       "        <tr>\n",
       "        <td style='text-align:left'>IBM</td>\n",
       "        <td style='text-align:left'>Aer State Vector Simulator</td>\n",
       "        <td style='text-align:left'><code>ibm_aer_sv_sim</code></td>\n",
       "        <td><span style='color:green'>●</span></td></tr>\n",
       "        <tr>\n",
       "        <td style='text-align:left'>IBM</td>\n",
       "        <td style='text-align:left'>Aer Unitary Simulator</td>\n",
       "        <td style='text-align:left'><code>ibm_aer_unitary_sim</code></td>\n",
       "        <td><span style='color:green'>●</span></td></tr>\n",
       "        <tr>\n",
       "        <td style='text-align:left'>IBM</td>\n",
       "        <td style='text-align:left'>BasicAer QASM Simulator</td>\n",
       "        <td style='text-align:left'><code>ibm_basicaer_qasm_sim</code></td>\n",
       "        <td><span style='color:green'>●</span></td></tr>\n",
       "        <tr>\n",
       "        <td style='text-align:left'>IBM</td>\n",
       "        <td style='text-align:left'>BasicAer State Vector Simulator</td>\n",
       "        <td style='text-align:left'><code>ibm_basicaer_sv_sim</code></td>\n",
       "        <td><span style='color:green'>●</span></td></tr>\n",
       "        <tr>\n",
       "        <td style='text-align:left'>IBM</td>\n",
       "        <td style='text-align:left'>BasicAer Unitary Simulator</td>\n",
       "        <td style='text-align:left'><code>ibm_basicaer_unitary_sim</code></td>\n",
       "        <td><span style='color:green'>●</span></td></tr>\n",
       "        <tr>\n",
       "        <td style='text-align:left'>IBM</td>\n",
       "        <td style='text-align:left'>IBMQ Belem</td>\n",
       "        <td style='text-align:left'><code>ibm_q_belem</code></td>\n",
       "        <td><span style='color:green'>●</span></td></tr>\n",
       "        <tr>\n",
       "        <td style='text-align:left'>IBM</td>\n",
       "        <td style='text-align:left'>IBMQ Extended Stabilizer Simulator</td>\n",
       "        <td style='text-align:left'><code>ibm_q_ext_stabilizer_sim</code></td>\n",
       "        <td><span style='color:green'>●</span></td></tr>\n",
       "        <tr>\n",
       "        <td style='text-align:left'>IBM</td>\n",
       "        <td style='text-align:left'>IBMQ Lima</td>\n",
       "        <td style='text-align:left'><code>ibm_q_lima</code></td>\n",
       "        <td><span style='color:green'>●</span></td></tr>\n",
       "        <tr>\n",
       "        <td style='text-align:left'>IBM</td>\n",
       "        <td style='text-align:left'>IBMQ Matrix Product State Simulator</td>\n",
       "        <td style='text-align:left'><code>ibm_q_mps_sim</code></td>\n",
       "        <td><span style='color:green'>●</span></td></tr>\n",
       "        <tr>\n",
       "        <td style='text-align:left'>IBM</td>\n",
       "        <td style='text-align:left'>IBMQ Nairobi</td>\n",
       "        <td style='text-align:left'><code>ibm_q_nairobi</code></td>\n",
       "        <td><span style='color:green'>●</span></td></tr>\n",
       "        <tr>\n",
       "        <td style='text-align:left'>IBM</td>\n",
       "        <td style='text-align:left'>IBMQ Oslo</td>\n",
       "        <td style='text-align:left'><code>ibm_q_oslo</code></td>\n",
       "        <td><span style='color:green'>●</span></td></tr>\n",
       "        <tr>\n",
       "        <td style='text-align:left'>IBM</td>\n",
       "        <td style='text-align:left'>IBMQ QASM Simulator</td>\n",
       "        <td style='text-align:left'><code>ibm_q_qasm_sim</code></td>\n",
       "        <td><span style='color:green'>●</span></td></tr>\n",
       "        <tr>\n",
       "        <td style='text-align:left'>IBM</td>\n",
       "        <td style='text-align:left'>IBMQ Quito</td>\n",
       "        <td style='text-align:left'><code>ibm_q_quito</code></td>\n",
       "        <td><span style='color:green'>●</span></td></tr>\n",
       "        <tr>\n",
       "        <td style='text-align:left'>IBM</td>\n",
       "        <td style='text-align:left'>IBMQ Santiago</td>\n",
       "        <td style='text-align:left'><code>ibm_q_manila</code></td>\n",
       "        <td><span style='color:green'>●</span></td></tr>\n",
       "        <tr>\n",
       "        <td style='text-align:left'>IBM</td>\n",
       "        <td style='text-align:left'>IBMQ Stabilizer Simulator</td>\n",
       "        <td style='text-align:left'><code>ibm_q_stabilizer_sim</code></td>\n",
       "        <td><span style='color:green'>●</span></td></tr>\n",
       "        <tr>\n",
       "        <td style='text-align:left'>IBM</td>\n",
       "        <td style='text-align:left'>IBMQ State Vector Simulator</td>\n",
       "        <td style='text-align:left'><code>ibm_q_sv_sim</code></td>\n",
       "        <td><span style='color:green'>●</span></td></tr>\n",
       "        <tr>\n",
       "        <td style='text-align:left'>IonQ</td>\n",
       "        <td style='text-align:left'>IonQ Device</td>\n",
       "        <td style='text-align:left'><code>aws_ionq</code></td>\n",
       "        <td><span style='color:green'>●</span></td></tr>\n",
       "        <tr>\n",
       "        <td style='text-align:left'>OQC</td>\n",
       "        <td style='text-align:left'>Lucy</td>\n",
       "        <td style='text-align:left'><code>aws_oqc_lucy</code></td>\n",
       "        <td><span style='color:green'>●</span></td></tr>\n",
       "        <tr>\n",
       "        <td style='text-align:left'>Rigetti</td>\n",
       "        <td style='text-align:left'>Aspen-11</td>\n",
       "        <td style='text-align:left'><code>aws_rigetti_aspen_11</code></td>\n",
       "        <td><span style='color:red'>○</span></td></tr>\n",
       "        <tr>\n",
       "        <td style='text-align:left'>Rigetti</td>\n",
       "        <td style='text-align:left'>Aspen-M-1</td>\n",
       "        <td style='text-align:left'><code>aws_rigetti_aspen_m_1</code></td>\n",
       "        <td><span style='color:green'>●</span></td></tr>\n",
       "        <tr>\n",
       "        <td style='text-align:left'>Rigetti</td>\n",
       "        <td style='text-align:left'>Aspen-M-2</td>\n",
       "        <td style='text-align:left'><code>aws_rigetti_aspen_m_2</code></td>\n",
       "        <td><span style='color:green'>●</span></td></tr>\n",
       "        <tr>\n",
       "        <td style='text-align:left'>Xanadu</td>\n",
       "        <td style='text-align:left'>Borealis</td>\n",
       "        <td style='text-align:left'><code>aws_xanadu_borealis</code></td>\n",
       "        <td><span style='color:green'>●</span></td></tr>\n",
       "        <tr><td colspan='4'; style='text-align:right'>Device status updated 5.5 hours ago</td></tr></table>"
      ],
      "text/plain": [
       "<IPython.core.display.HTML object>"
      ]
     },
     "metadata": {},
     "output_type": "display_data"
    }
   ],
   "source": [
    "get_devices()"
   ]
  },
  {
   "cell_type": "markdown",
   "id": "ffacea0b-d779-4ae9-8985-b295086f0243",
   "metadata": {},
   "source": [
    "Don't forget to add your IBMQ Key"
   ]
  },
  {
   "cell_type": "code",
   "execution_count": 7,
   "id": "698b6ebe-2ffc-4a23-8c40-0236d0b23cb9",
   "metadata": {},
   "outputs": [],
   "source": [
    "from qiskit import IBMQ"
   ]
  },
  {
   "cell_type": "code",
   "execution_count": 8,
   "id": "d030ba80-037e-4e38-b36c-be650ceeb83b",
   "metadata": {},
   "outputs": [
    {
     "name": "stderr",
     "output_type": "stream",
     "text": [
      "configrc.store_credentials:WARNING:2022-10-22 22:55:06,155: Credentials already present. Set overwrite=True to overwrite.\n"
     ]
    }
   ],
   "source": [
    "IBMQ.save_account('afbebfe0baf45a900086734319446f45cf8be8bdb937edec5d21842909720b488bc9929b3df765adf192b484a7ae8a626893e8ac1ff44d95d0d82c9e1a057a9d')"
   ]
  },
  {
   "cell_type": "code",
   "execution_count": 9,
   "id": "ddfdfe7d-ad42-41d8-b41a-822475d194e9",
   "metadata": {},
   "outputs": [],
   "source": [
    "from qbraid import device_wrapper, job_wrapper, get_jobs\n",
    "from qbraid.api import ibmq_least_busy_qpu, verify_config"
   ]
  },
  {
   "cell_type": "markdown",
   "id": "d0fefcca-f2b0-44dc-9d26-98be8ddf10d4",
   "metadata": {},
   "source": [
    "### A simple circuit"
   ]
  },
  {
   "cell_type": "code",
   "execution_count": 10,
   "id": "9f54d7ef-2a8d-45f8-be0f-ed1b61d16d38",
   "metadata": {},
   "outputs": [
    {
     "data": {
      "text/html": [
       "<pre style=\"word-wrap: normal;white-space: pre;background: #fff0;line-height: 1.1;font-family: &quot;Courier New&quot;,Courier,monospace\">     ┌───┐┌─────────┐┌─────────┐┌─┐\n",
       "  q: ┤ H ├┤ Ry(π/4) ├┤ Rz(π/2) ├┤M├\n",
       "     └───┘└─────────┘└─────────┘└╥┘\n",
       "c: 1/════════════════════════════╩═\n",
       "                                 0 </pre>"
      ],
      "text/plain": [
       "     ┌───┐┌─────────┐┌─────────┐┌─┐\n",
       "  q: ┤ H ├┤ Ry(π/4) ├┤ Rz(π/2) ├┤M├\n",
       "     └───┘└─────────┘└─────────┘└╥┘\n",
       "c: 1/════════════════════════════╩═\n",
       "                                 0 "
      ]
     },
     "execution_count": 10,
     "metadata": {},
     "output_type": "execute_result"
    }
   ],
   "source": [
    "from qiskit import QuantumCircuit\n",
    "import numpy as np\n",
    "\n",
    "qiskit_circuit = QuantumCircuit(1, 1)\n",
    "\n",
    "qiskit_circuit.h(0)\n",
    "qiskit_circuit.ry(np.pi / 4, 0)\n",
    "qiskit_circuit.rz(np.pi / 2, 0)\n",
    "qiskit_circuit.measure(0, 0)\n",
    "\n",
    "qiskit_circuit.draw()"
   ]
  },
  {
   "cell_type": "markdown",
   "id": "c90b77fe-f8ca-49a5-8641-e5db093d43a8",
   "metadata": {},
   "source": [
    "#### Specify devices\n",
    "We will specfiy which device we want to run in this case we will run the qiskit circuit on aws and google."
   ]
  },
  {
   "cell_type": "code",
   "execution_count": 11,
   "id": "bbd4c744-62c5-48eb-b580-4427dc3946d2",
   "metadata": {},
   "outputs": [],
   "source": [
    "shots = 200\n",
    "google_id = \"google_cirq_dm_sim\"\n",
    "qbraid_google_device = device_wrapper(google_id)\n",
    "\n",
    "aws_id = \"aws_dm_sim\"\n",
    "qbraid_aws_device = device_wrapper(aws_id)  # Credential handled by qBraid Quantum Jobs"
   ]
  },
  {
   "cell_type": "markdown",
   "id": "e9f67211-81da-4a48-b560-140ba213dc80",
   "metadata": {},
   "source": [
    "Let's run the circuit!!!"
   ]
  },
  {
   "cell_type": "code",
   "execution_count": 12,
   "id": "4ad4e339-4f26-45e1-a36a-73f13865a05e",
   "metadata": {},
   "outputs": [],
   "source": [
    "qbraid_google_job = qbraid_google_device.run(qiskit_circuit, shots=shots)\n",
    "# qbraid_aws_job = qbraid_aws_device.run(qiskit_circuit, shots=shots)"
   ]
  },
  {
   "cell_type": "markdown",
   "id": "f0cdd092-5036-4a2b-b209-a25756861f5f",
   "metadata": {},
   "source": [
    "#### Monitor and manage your jobs from one location"
   ]
  },
  {
   "cell_type": "code",
   "execution_count": 13,
   "id": "586a1bcb-305e-40f7-9d3b-99bd2fb4ea22",
   "metadata": {},
   "outputs": [
    {
     "data": {
      "text/html": [
       "<h3>Quantum Jobs</h3><table><tr>\n",
       "    <th style='text-align:left'>qBraid ID</th>\n",
       "    <th style='text-align:left'>Submitted</th>\n",
       "    <th style='text-align:left'>Status</th></tr>\n",
       "    <tr><td colspan='4'; style='text-align:right'>No jobs found for user uodba321@gmail.com</td></tr></table>"
      ],
      "text/plain": [
       "<IPython.core.display.HTML object>"
      ]
     },
     "metadata": {},
     "output_type": "display_data"
    }
   ],
   "source": [
    "get_jobs()"
   ]
  },
  {
   "cell_type": "code",
   "execution_count": 14,
   "id": "805ac394-c671-4426-b4bb-6193eadc97fe",
   "metadata": {},
   "outputs": [],
   "source": [
    "# jobs = [qbraid_google_job, qbraid_aws_job]\n",
    "# google_result, aws_result = [job.result() for job in jobs]\n",
    "google_result = qbraid_google_job.result()"
   ]
  },
  {
   "cell_type": "markdown",
   "id": "1f8f1157-31a5-417d-b802-5d16810557a9",
   "metadata": {},
   "source": [
    "##### Get results"
   ]
  },
  {
   "cell_type": "code",
   "execution_count": 15,
   "id": "e88c26ad-3697-49cf-a73e-6cdbaf2f1d76",
   "metadata": {},
   "outputs": [
    {
     "name": "stdout",
     "output_type": "stream",
     "text": [
      "Cirq Density Matrix Simulator counts: {'1': 172, '0': 28}\n"
     ]
    }
   ],
   "source": [
    "print(f\"{qbraid_google_device.name} counts: {google_result.measurement_counts()}\")\n",
    "# print(f\"{qbraid_aws_device.name} counts: {aws_result.measurement_counts()}\")"
   ]
  },
  {
   "cell_type": "code",
   "execution_count": 16,
   "id": "717b525c-ed8b-4bf9-9240-dbc944c62969",
   "metadata": {},
   "outputs": [
    {
     "data": {
      "image/png": "[encoded data removed]",
      "text/plain": [
       "<Figure size 700x500 with 1 Axes>"
      ]
     },
     "execution_count": 16,
     "metadata": {},
     "output_type": "execute_result"
    }
   ],
   "source": [
    "google_result.plot_counts()"
   ]
  },
  {
   "cell_type": "code",
   "execution_count": 17,
   "id": "861c4186-e72e-455e-a4cc-1a031acdc084",
   "metadata": {},
   "outputs": [],
   "source": [
    "# aws_result.plot_counts()"
   ]
  },
  {
   "cell_type": "markdown",
   "id": "e9436062-4cc5-4722-b23d-89d23b72ece0",
   "metadata": {},
   "source": [
    "#### Example using Hadamard test real and imag functions"
   ]
  },
  {
   "cell_type": "code",
   "execution_count": 18,
   "id": "cc91b923-ca54-4796-b7a6-a918940c0e28",
   "metadata": {},
   "outputs": [],
   "source": [
    "shots = 200\n",
    "result_real = qbraid_google_device.run(hadamard_test_real(), shots=shots).result()"
   ]
  },
  {
   "cell_type": "code",
   "execution_count": 19,
   "id": "f1457b95-af4b-4c6c-aa60-a5faa7d8eb1c",
   "metadata": {},
   "outputs": [
    {
     "name": "stdout",
     "output_type": "stream",
     "text": [
      "Cirq Density Matrix Simulator counts: {'0': 158, '1': 42}\n"
     ]
    }
   ],
   "source": [
    "print(f\"{qbraid_google_device.name} counts: {result_real.measurement_counts()}\")"
   ]
  },
  {
   "cell_type": "code",
   "execution_count": 20,
   "id": "d9a0e42b-6920-4062-8704-a5276481296f",
   "metadata": {},
   "outputs": [
    {
     "data": {
      "image/png": "[encoded data removed]",
      "text/plain": [
       "<Figure size 700x500 with 1 Axes>"
      ]
     },
     "execution_count": 20,
     "metadata": {},
     "output_type": "execute_result"
    }
   ],
   "source": [
    "result_real.plot_counts()"
   ]
  },
  {
   "cell_type": "code",
   "execution_count": 21,
   "id": "427dcc33-6e3b-447f-a979-3995bd9c7758",
   "metadata": {},
   "outputs": [],
   "source": [
    "shots = 200\n",
    "result_imag = qbraid_google_device.run(hadamard_test_imag(), shots=shots).result()"
   ]
  },
  {
   "cell_type": "code",
   "execution_count": 22,
   "id": "a8a607cf-e10a-43aa-9649-c0d6b7b73543",
   "metadata": {},
   "outputs": [
    {
     "name": "stdout",
     "output_type": "stream",
     "text": [
      "Cirq Density Matrix Simulator counts: {'1': 101, '0': 99}\n"
     ]
    }
   ],
   "source": [
    "print(f\"{qbraid_google_device.name} counts: {result_imag.measurement_counts()}\")"
   ]
  },
  {
   "cell_type": "code",
   "execution_count": 23,
   "id": "ebc060df-f295-45dd-9d47-dc370d234bd2",
   "metadata": {},
   "outputs": [
    {
     "data": {
      "image/png": "[encoded data removed]",
      "text/plain": [
       "<Figure size 700x500 with 1 Axes>"
      ]
     },
     "execution_count": 23,
     "metadata": {},
     "output_type": "execute_result"
    }
   ],
   "source": [
    "result_imag.plot_counts()"
   ]
  },
  {
   "cell_type": "markdown",
   "id": "fbdcd63e-76cd-445c-8f52-d0d18e05ad9c",
   "metadata": {},
   "source": [
    "### It's time to develop a game"
   ]
  },
  {
   "cell_type": "markdown",
   "id": "5b3ffac8-27b6-4cce-9637-3a8a34a40314",
   "metadata": {},
   "source": [
    "Dice have been used in games throughout the history of civilization, from ancient Egypt and Sumeria to Dungeons & Dragons. The most common form of die is the cube, with each side marked with from one to six small dots (spots). The spots are arranged in conventional patterns to represent numbers from one to six and twelve (in case of two dice usage method)."
   ]
  },
  {
   "cell_type": "markdown",
   "id": "60290dad-6e08-427e-b26e-020b8fd687e1",
   "metadata": {},
   "source": [
    "Classical Computers at best, generate pseudo-random numbers.\n",
    "\n",
    "Quantum computers, using unique quantum property such as Superposition, to generate truly random numbers."
   ]
  },
  {
   "cell_type": "markdown",
   "id": "9a5014d0-7e6d-4c8f-a518-d2b76194925c",
   "metadata": {},
   "source": [
    "#### Quantum Circuit for Q Dice:"
   ]
  },
  {
   "cell_type": "code",
   "execution_count": 25,
   "id": "ca2ca8e8-f084-4999-b58c-563035a59371",
   "metadata": {},
   "outputs": [
    {
     "data": {
      "text/html": [
       "<pre style=\"word-wrap: normal;white-space: pre;background: #fff0;line-height: 1.1;font-family: &quot;Courier New&quot;,Courier,monospace\">      ┌───┐┌─┐      \n",
       "q2_0: ┤ H ├┤M├──────\n",
       "      ├───┤└╥┘┌─┐   \n",
       "q2_1: ┤ H ├─╫─┤M├───\n",
       "      ├───┤ ║ └╥┘┌─┐\n",
       "q2_2: ┤ H ├─╫──╫─┤M├\n",
       "      └───┘ ║  ║ └╥┘\n",
       "q2_3: ──────╫──╫──╫─\n",
       "            ║  ║  ║ \n",
       "q2_4: ──────╫──╫──╫─\n",
       "            ║  ║  ║ \n",
       "c2: 5/══════╩══╩══╩═\n",
       "            0  1  2 </pre>"
      ],
      "text/plain": [
       "      ┌───┐┌─┐      \n",
       "q2_0: ┤ H ├┤M├──────\n",
       "      ├───┤└╥┘┌─┐   \n",
       "q2_1: ┤ H ├─╫─┤M├───\n",
       "      ├───┤ ║ └╥┘┌─┐\n",
       "q2_2: ┤ H ├─╫──╫─┤M├\n",
       "      └───┘ ║  ║ └╥┘\n",
       "q2_3: ──────╫──╫──╫─\n",
       "            ║  ║  ║ \n",
       "q2_4: ──────╫──╫──╫─\n",
       "            ║  ║  ║ \n",
       "c2: 5/══════╩══╩══╩═\n",
       "            0  1  2 "
      ]
     },
     "execution_count": 25,
     "metadata": {},
     "output_type": "execute_result"
    }
   ],
   "source": [
    "q = QuantumRegister(5)\n",
    "c = ClassicalRegister(5)\n",
    "circuit = QuantumCircuit(q,c)\n",
    "circuit.h(0)\n",
    "circuit.h(1)\n",
    "circuit.h(2)\n",
    "circuit.measure(0,0)\n",
    "circuit.measure(1,1)\n",
    "circuit.measure(2,2)\n",
    "circuit.draw()"
   ]
  },
  {
   "cell_type": "markdown",
   "id": "94ed6096-dcdc-4bfb-9ec2-972e44c156f6",
   "metadata": {},
   "source": [
    "The measurement of the above with real quantum device, brings up true random value from the rolled dice."
   ]
  },
  {
   "cell_type": "code",
   "execution_count": 27,
   "id": "74dcc11b-e873-4135-b161-8fa6660db0a5",
   "metadata": {},
   "outputs": [],
   "source": [
    "shots = 200\n",
    "result = qbraid_google_device.run(circuit, shots = shots).result()"
   ]
  },
  {
   "cell_type": "code",
   "execution_count": 29,
   "id": "9ca675f3-7f0f-4fc4-a5fd-3c6d4b27b96a",
   "metadata": {},
   "outputs": [
    {
     "name": "stdout",
     "output_type": "stream",
     "text": [
      "Cirq Density Matrix Simulator counts: {'011': 25, '001': 31, '110': 33, '010': 30, '111': 18, '100': 21, '000': 19, '101': 23}\n"
     ]
    }
   ],
   "source": [
    "print(f\"{qbraid_google_device.name} counts: {result.measurement_counts()}\")"
   ]
  },
  {
   "cell_type": "code",
   "execution_count": 31,
   "id": "a6396444-3706-4629-8a23-3efa05ce2a1a",
   "metadata": {},
   "outputs": [
    {
     "data": {
      "image/png": "[encoded data removed]",
      "text/plain": [
       "<Figure size 700x500 with 1 Axes>"
      ]
     },
     "execution_count": 31,
     "metadata": {},
     "output_type": "execute_result"
    }
   ],
   "source": [
    "result.plot_counts()"
   ]
  }
 ],
 "metadata": {
  "kernelspec": {
   "display_name": "Python 3 [qBraid-SDK]",
   "language": "python",
   "name": "python3_qbraid_sdk_9j9sjy"
  },
  "language_info": {
   "codemirror_mode": {
    "name": "ipython",
    "version": 3
   },
   "file_extension": ".py",
   "mimetype": "text/x-python",
   "name": "python",
   "nbconvert_exporter": "python",
   "pygments_lexer": "ipython3",
   "version": "3.9.10"
  }
 },
 "nbformat": 4,
 "nbformat_minor": 5
}
